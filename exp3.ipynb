{
 "cells": [
  {
   "cell_type": "code",
   "execution_count": 3,
   "metadata": {},
   "outputs": [
    {
     "name": "stdout",
     "output_type": "stream",
     "text": [
      "Neighbors of pixel (x=1, y=1):\n",
      "{'top': array([83, 44, 13], dtype=uint8), 'bottom': array([87, 48, 17], dtype=uint8), 'left': array([87, 48, 17], dtype=uint8), 'right': array([85, 44, 14], dtype=uint8)}\n"
     ]
    }
   ],
   "source": [
    "import numpy as np\n",
    "from PIL import Image\n",
    "\n",
    "# Load the image\n",
    "image_path = \"img2.jpeg\" \n",
    "image = Image.open(image_path)\n",
    "image_array = np.array(image)\n",
    "\n",
    "# Function to get the four neighbors\n",
    "def get_four_neighbors(image_array, x, y):\n",
    "    neighbors = {}\n",
    "    rows, cols = image_array.shape[:2]\n",
    "    \n",
    "    if x > 0:  # Top\n",
    "        neighbors['top'] = image_array[x-1, y]\n",
    "    if x < rows - 1:  # Bottom\n",
    "        neighbors['bottom'] = image_array[x+1, y]\n",
    "    if y > 0:  # Left\n",
    "        neighbors['left'] = image_array[x, y-1]\n",
    "    if y < cols - 1:  # Right\n",
    "        neighbors['right'] = image_array[x, y+1]\n",
    "    \n",
    "    return neighbors\n",
    "x, y = 1,1  \n",
    "neighbors = get_four_neighbors(image_array, x, y)\n",
    "print(\"Neighbors of pixel (x={}, y={}):\".format(x, y))\n",
    "print(neighbors)\n"
   ]
  },
  {
   "cell_type": "code",
   "execution_count": 4,
   "metadata": {},
   "outputs": [
    {
     "data": {
      "text/plain": [
       "array([[ 85,  90,  75, 120,  31, 245, 129],\n",
       "       [ 46,   2, 101, 179, 250,  21, 221],\n",
       "       [ 76, 175, 149, 129,  62,  70, 244],\n",
       "       [ 26,  64, 165, 156,   8, 251, 158],\n",
       "       [106, 123, 227, 120,  41, 166, 203],\n",
       "       [ 72, 159,  14, 134, 240, 117,  93],\n",
       "       [ 97, 134,   0, 251,  25, 184, 213]])"
      ]
     },
     "execution_count": 4,
     "metadata": {},
     "output_type": "execute_result"
    }
   ],
   "source": [
    "arr = np.random.randint(0,255, size=(7,7))\n",
    "arr"
   ]
  },
  {
   "cell_type": "code",
   "execution_count": 5,
   "metadata": {},
   "outputs": [],
   "source": [
    "def adj(arr,neig,type=\"m4\"):\n",
    "    col = len(arr[0])\n",
    "    row = len(arr)\n",
    "    dir = [(1,0),(-1,0),(0,1),(0,-1)] if type=='m4' else [(1,0),(-1,0),(0,1),(0,-1),(-1,-1),(1,1),(-1,1),(1,-1)]\n",
    "    for i in range(row):\n",
    "        for j in range(col):\n",
    "            for dx,dy in dir:\n",
    "                x,y = i+dx,j+dy\n",
    "                if 0 <= x<row and 0 <= y < col:\n",
    "                    if arr[x][y] in neig:\n",
    "                        print(f\"Neighbour of {(i,j),(arr[i][j])} is {(x,y),(arr[x][y])}\")\n",
    "adj(arr,[144,68],type=\"m8\")"
   ]
  },
  {
   "cell_type": "code",
   "execution_count": 8,
   "metadata": {},
   "outputs": [
    {
     "name": "stdout",
     "output_type": "stream",
     "text": [
      "Neighbors of pixel at (50, 50): [69, 68, 68, 69, 68, 69, 68, 68]\n"
     ]
    }
   ],
   "source": [
    "image_path = \"img2.jpeg\" \n",
    "image = Image.open(image_path).convert('L')  \n",
    "image_array = np.array(image)\n",
    "# print(image_array)\n",
    "def get_m_neighborhood(image_array, x, y):\n",
    "    rows, cols = image_array.shape\n",
    "    neighbors = []\n",
    "    for dx in [-1, 0, 1]: \n",
    "        for dy in [-1, 0, 1]:  \n",
    "            if dx == 0 and dy == 0:\n",
    "                continue  \n",
    "            nx, ny = x + dx, y + dy\n",
    "            if 0 <= nx < rows and 0 <= ny < cols:  \n",
    "                neighbors.append(image_array[nx, ny])\n",
    "    return neighbors\n",
    "\n",
    "x, y = 50, 50 \n",
    "neighbors = get_m_neighborhood(image_array, x, y)\n",
    "print(f\"Neighbors of pixel at ({x}, {y}): {neighbors}\")\n"
   ]
  },
  {
   "cell_type": "code",
   "execution_count": null,
   "metadata": {},
   "outputs": [],
   "source": []
  }
 ],
 "metadata": {
  "kernelspec": {
   "display_name": "base",
   "language": "python",
   "name": "python3"
  },
  "language_info": {
   "codemirror_mode": {
    "name": "ipython",
    "version": 3
   },
   "file_extension": ".py",
   "mimetype": "text/x-python",
   "name": "python",
   "nbconvert_exporter": "python",
   "pygments_lexer": "ipython3",
   "version": "3.12.7"
  }
 },
 "nbformat": 4,
 "nbformat_minor": 2
}
